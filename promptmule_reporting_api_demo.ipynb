{
  "nbformat": 4,
  "nbformat_minor": 0,
  "metadata": {
    "colab": {
      "provenance": [],
      "authorship_tag": "ABX9TyM8iFTrpw9okE5lLwvuQFCh",
      "include_colab_link": true
    },
    "kernelspec": {
      "name": "python3",
      "display_name": "Python 3"
    },
    "language_info": {
      "name": "python"
    }
  },
  "cells": [
    {
      "cell_type": "markdown",
      "metadata": {
        "id": "view-in-github",
        "colab_type": "text"
      },
      "source": [
        "<a href=\"https://colab.research.google.com/github/promptmule4real/demo/blob/main/promptmule_reporting_api_demo.ipynb\" target=\"_parent\"><img src=\"https://colab.research.google.com/assets/colab-badge.svg\" alt=\"Open In Colab\"/></a>"
      ]
    },
    {
      "cell_type": "markdown",
      "source": [
        "# PromptMule Reporting API Demo v0.2\n",
        "\n",
        "Welcome to our interactive demonstration guide. Using the PromptMule cache enables you to automatically cache prompts and responses to OpenAI, without having to manage those yourself. These will be kept in the AWS Cloud until you wish to download them via a the Report API. First, you will need to generate some traffic with a few prompts, then some reports.\n",
        "\n",
        "This tutorial will guide you through the process of using the Reporting API, enabling you to harness the full potential of the PromptMule reporting service. Tailored specifically for a Google Colaboratory runtime environment, this demo provides an engaging exploration into sending reports through OpenAI and testing reporting functions. If you do not have an API-KEY or Token, see the Github guide to generate those here:[https://github.com/promptmule4real/demo/blob/main/promptmule_api_demo.ipynb]\n",
        "\n",
        "If you are reading this while on Github(https://github.com/): Start by clicking the \"Open in Colab\" icon located at the top left corner of the Github Preview page. This action will open the Google Colab notebook in a new tab, giving you the ability to run, modify, and interact with the demo code within.\n",
        "\n",
        "Once you've launched the notebook in Google Colab, follow the subsequent step-by-step instructions below to effectively use the PromptMule Reporting API.\n",
        "\n",
        "Stay tuned for a more comprehensive demo of other PromptMule functionalities, set to debut at the end of our next sprint!\n",
        "\n",
        "We invite you to dive into this interactive exploration, and welcome your participation and feedback. Please visit us at www.promptmule.com.\n",
        "\n",
        "If you are reading this while in Google Colab(https://colab.research.google.com/): To start, simply click on the \"Run Cell\" button located to the left of the code block. It resembles the play button you might find on a media player. Once activated, feel free to explore and experiment with the code."
      ],
      "metadata": {
        "id": "PJvAGfifZh92"
      }
    },
    {
      "cell_type": "code",
      "source": [
        "!pip install DeepDiff"
      ],
      "metadata": {
        "id": "X_Pz2I5LRH9O",
        "outputId": "c2bf78e4-e881-4836-909f-555a20dc4912",
        "colab": {
          "base_uri": "https://localhost:8080/"
        }
      },
      "execution_count": 15,
      "outputs": [
        {
          "output_type": "stream",
          "name": "stdout",
          "text": [
            "Collecting DeepDiff\n",
            "  Downloading deepdiff-6.3.1-py3-none-any.whl (70 kB)\n",
            "\u001b[?25l     \u001b[90m━━━━━━━━━━━━━━━━━━━━━━━━━━━━━━━━━━━━━━━━\u001b[0m \u001b[32m0.0/70.7 kB\u001b[0m \u001b[31m?\u001b[0m eta \u001b[36m-:--:--\u001b[0m\r\u001b[2K     \u001b[91m━━━━━━━━━━━━━━━━━━━━━━━\u001b[0m\u001b[90m╺\u001b[0m\u001b[90m━━━━━━━━━━━━━━━━\u001b[0m \u001b[32m41.0/70.7 kB\u001b[0m \u001b[31m1.1 MB/s\u001b[0m eta \u001b[36m0:00:01\u001b[0m\r\u001b[2K     \u001b[90m━━━━━━━━━━━━━━━━━━━━━━━━━━━━━━━━━━━━━━━━\u001b[0m \u001b[32m70.7/70.7 kB\u001b[0m \u001b[31m1.5 MB/s\u001b[0m eta \u001b[36m0:00:00\u001b[0m\n",
            "\u001b[?25hCollecting ordered-set<4.2.0,>=4.0.2 (from DeepDiff)\n",
            "  Downloading ordered_set-4.1.0-py3-none-any.whl (7.6 kB)\n",
            "Installing collected packages: ordered-set, DeepDiff\n",
            "Successfully installed DeepDiff-6.3.1 ordered-set-4.1.0\n"
          ]
        }
      ]
    },
    {
      "cell_type": "code",
      "execution_count": 16,
      "metadata": {
        "id": "GB8C5yR6Zcd3"
      },
      "outputs": [],
      "source": [
        "import os\n",
        "import requests\n",
        "import json\n",
        "import textwrap\n",
        "from deepdiff import DeepDiff"
      ]
    },
    {
      "cell_type": "code",
      "source": [
        "# @title Input your PromptMule Sign-in Attributes { run: \"auto\", display-mode: \"both\" }\n",
        "#@markdown Below replace the capital LETTERS with your information, pick a username, complex password, real email, and an application name that you will use as a reference in the future.\n",
        "\n",
        "your_username = \"YOUR_USERNAME\"  #@param {type: \"string\"}  # this is your username, it will need to be unique, else the API will tell you it's not and try again (str)\n",
        "api_key = \"YOUR_PROMPTMULE_API_KEY\"    #@param {type: \"string\"} # complex passwords are required (str)\n",
        "your_appname = \"YOUR_APPNAME\"    #@param {type: \"string\"}   # this is the application that you are using the promptmule API to build, this app name is unique (str)\n",
        "api_token = \"YOUR_PROMPTMULE_TOKEN\"    #@param {type: \"string\"}   # this is the application that you are using the promptmule API to build, this app name is unique (str)\n",
        "#@markdown ---"
      ],
      "metadata": {
        "id": "akXjrPniZ4bw"
      },
      "execution_count": 2,
      "outputs": []
    },
    {
      "cell_type": "code",
      "source": [
        "# @title Input OpenAI API KEY { run: \"auto\", display-mode: \"form\" }\n",
        "#@markdown Input your OpenAI API key here. To obtain an OpenAI API key (https://platform.openai.com/account/api-keys), OR sign up on the OpenAI website, provide necessary information, and upon approval, you'll be issued an API key to authenticate your requests to the API.\n",
        "\n",
        "OPENAI_API_KEY = 'YOUR_OPENAI_API_KEY' #@param {type: \"string\"} # this is your OpenAI API Key, it may impact your model choice\n",
        "#@markdown ---\n"
      ],
      "metadata": {
        "id": "XnO543JMePAw"
      },
      "execution_count": 3,
      "outputs": []
    },
    {
      "cell_type": "markdown",
      "source": [
        "# PromptMule's /prompt endpoint API\n",
        "\n",
        "Using the PromptMule cache enables you to automatically cache prompts and responses to OpenAI, without having to manage those yourself. These will be kept in the AWS Cloud until you wish to download them via a the Report API. First, you will need to generate some traffic with a few prompts.\n",
        "\n",
        "You can utilize the /prompt endpoint using your PromptMule Token and API key, along with your OPENAI_API_KEY. These can be used to interact, via the PromptMule cache, with GPT-4 and/or GPT-3.5 models via the chat completion endpoint of OpenAI, available at: https://api.openai.com/v1/chat/completions\n",
        "\n",
        "For information on how to structure the OpenAI Request Body, refer to the official documentation here: https://platform.openai.com/docs/api-reference/chat/create\n",
        "\n",
        "We have incorporated some unique parameters specific to `promptmule`:\n",
        "\n",
        "- `api` (String): A required field, for this demonstration use \"openai\" which is the only supported API currently.\n",
        "\n",
        "- `semantic` (Float): This required parameter specifies the \"percentage match\" of the sent prompt with existing prompts in the cache. If a match is found with a percentage equal to or higher than this value, a maximum number of matches (as defined by `sem_num`) will be returned in a JSON dictionary.\n",
        "\n",
        "- `sem_num` (Integer): A required parameter which should be a number between 1 and 10. It represents the maximum number of semantic matches to be found in the cache and returned in the API response as a JSON dictionary."
      ],
      "metadata": {
        "id": "kxANfUF_a21f"
      }
    },
    {
      "cell_type": "markdown",
      "source": [
        "We need to update the headers for the Prompt API call, per below with Authorization which is different than previous calls using your API Token, and x-api-key which is your PromptMule API-Key, and your OpenAI API-Key."
      ],
      "metadata": {
        "id": "00w4v1WP982n"
      }
    },
    {
      "cell_type": "code",
      "source": [
        "ENDPOINT = 'https://820czjhki0.execute-api.us-west-2.amazonaws.com/dev/'\n",
        "PROMPT = 'prompt'\n",
        "\n",
        "headers = {           # this is the /prompt endpoint header\n",
        "    'Authorization': api_token,\n",
        "    'x-api-key': api_key,\n",
        "    'openai-key': OPENAI_API_KEY,\n",
        "    'Content-Type': 'application/json'\n",
        "    }\n",
        "\n",
        "api_call_body = {     # this is a /prompt call body example\n",
        "    \"model\": \"gpt-4-0613\",  # using GPT-4, you must have access to this model, or the call will fail\n",
        "    \"messages\": [\n",
        "        {\n",
        "            \"role\": \"user\",\n",
        "            \"content\": \"Create a Psuedocode function for the chances of seeing a unicorn in Central Park. Assume the probability is the square root of -1.\"\n",
        "        }\n",
        "    ],\n",
        "    \"max_tokens\": \"100\",\n",
        "    \"temperature\": \"0.99\",\n",
        "    \"top_p\": \"1\",\n",
        "    \"n\": \"1\",\n",
        "    \"logprobs\": \"null\",\n",
        "    \"stop\": \"null\",\n",
        "    \"suffix\": \"null\",\n",
        "    \"echo\": \"true\",\n",
        "    \"presence_penalty\": \"0\",\n",
        "    \"frequency_penalty\": \"0\",\n",
        "    \"best_of\": \"1\",\n",
        "    \"logit_bias\": \"null\",\n",
        "    \"user\": your_username,\n",
        "    \"api\": \"openai\",    # this is used to denote openai as the destination\n",
        "    \"semantic\": \"0.99\", # this denotes the semantic match percentage in the cache\n",
        "    \"sem_num\": \"2\"      # this denotes the number of matches to return if found\n",
        "}"
      ],
      "metadata": {
        "id": "GFSOWfxM9rZT"
      },
      "execution_count": 33,
      "outputs": []
    },
    {
      "cell_type": "markdown",
      "source": [
        "Note that we are pointing the endpoint at the Prompt endpoint this time, and then sending the API call."
      ],
      "metadata": {
        "id": "XYq6BnHs-C9g"
      }
    },
    {
      "cell_type": "code",
      "source": [
        "promptmule = ENDPOINT + PROMPT\n",
        "promptmule_response = requests.request(\"POST\", promptmule, headers=headers, json=api_call_body)\n",
        "# Handle response\n",
        "if promptmule_response.status_code == 200:\n",
        "    print(\"Response from OpenAI successful:\\n\", json.dumps(json.loads(promptmule_response.text), indent=4))\n",
        "else:\n",
        "    print(f\"Response from OpenAI failed with status code {promptmule_response.status_code}:\\n\", json.dumps(json.loads(promptmule_response.text), indent=4))"
      ],
      "metadata": {
        "id": "BKcoMTdu-I_K",
        "colab": {
          "base_uri": "https://localhost:8080/"
        },
        "outputId": "21d6664c-2fa0-42b3-ddf6-2f6b88ca59d5"
      },
      "execution_count": 34,
      "outputs": [
        {
          "output_type": "stream",
          "name": "stdout",
          "text": [
            "Response from OpenAI successful:\n",
            " {\n",
            "    \"search_score\": 0,\n",
            "    \"prompt\": \"Create a Psuedocode function for the chances of seeing a unicorn in Central Park. Assume the probability is the square root of -1.\",\n",
            "    \"response\": \"It is crucial to note that the square root of -1 is an imaginary number represented by the symbol 'i' in mathematics. In practical scenarios, probabilities cannot be an imaginary or a negative number as they lie between 0 and 1. Therefore, the problem statement, as it stands, is not logical. \\n\\nHowever, if we high-handedly ignore this rule to maintain the whimsical flavor of the problem statement, the pseudocode might look like this:\\n\\n```\\nFunction SEE_UNICORN\",\n",
            "    \"cost\": 135,\n",
            "    \"saved_cost\": 0,\n",
            "    \"cache_hits\": 0,\n",
            "    \"exact_match\": false,\n",
            "    \"api\": \"openai\",\n",
            "    \"cache_error\": false,\n",
            "    \"usage\": {\n",
            "        \"prompt_tokens\": 35,\n",
            "        \"completion_tokens\": 100,\n",
            "        \"total_tokens\": 135\n",
            "    },\n",
            "    \"semantics_search\": {\n",
            "        \"m0\": {},\n",
            "        \"m1\": {},\n",
            "        \"m2\": {},\n",
            "        \"m3\": {},\n",
            "        \"m4\": {},\n",
            "        \"m5\": {},\n",
            "        \"m6\": {},\n",
            "        \"m7\": {},\n",
            "        \"m8\": {},\n",
            "        \"m9\": {}\n",
            "    }\n",
            "}\n"
          ]
        }
      ]
    },
    {
      "cell_type": "code",
      "source": [
        "# Let's Poke the Cache 10 Time\n",
        "poke = 10\n",
        "# If you only want to see the diff's of the returned response for each call set diff_only to True\n",
        "diff_only = True\n",
        "i = 0 # used to count iterations\n",
        "# Run the loop 10 times\n",
        "for _ in range(poke):\n",
        "    try:\n",
        "        print(\"Sending iteration: #\", i)\n",
        "        i = i + 1;\n",
        "        promptmule_repeated_response = requests.post(promptmule, headers=headers, json=api_call_body)\n",
        "        response_json = json.loads(promptmule_response.text)\n",
        "        diff = DeepDiff(promptmule_response, promptmule_repeated_response, ignore_order=True)\n",
        "        # Handle response\n",
        "        if promptmule_response.status_code == 200:\n",
        "            if not diff_only:\n",
        "              print(\"Response from PromptMule API successful:\\n\", json.dumps(response_json, indent=4))\n",
        "            else:\n",
        "              print(\"This diff between the first API call through PromptMule, and this call through PromptMule:\", diff)\n",
        "        elif promptmule_response.status_code == 400:\n",
        "            print(f\"Bad request. Details: {response_json}\")\n",
        "        elif promptmule_response.status_code == 500:\n",
        "            print(f\"Runtime Service Exception. Details: {response_json}\")\n",
        "        else:\n",
        "            print(f\"Unexpected status code {promptmule_response.status_code}. Details: {response_json}\")\n",
        "\n",
        "    except requests.exceptions.HTTPError as errh:\n",
        "        print(f\"Http Error:{errh}\")\n",
        "\n",
        "    except requests.exceptions.ConnectionError as errc:\n",
        "        print(f\"Error Connecting:{errc}\")\n",
        "\n",
        "    except requests.exceptions.Timeout as errt:\n",
        "        print(f\"Timeout Error:{errt}\")\n",
        "\n",
        "    except requests.exceptions.RequestException as err:\n",
        "        print(f\"Something went wrong with the request:{err}\")\n",
        "\n",
        "    except Exception as e:\n",
        "        print(f\"An unexpected error occurred: {e}\")"
      ],
      "metadata": {
        "id": "9LuPvvj_DWC5",
        "colab": {
          "base_uri": "https://localhost:8080/"
        },
        "outputId": "f6990bf3-aa49-4f2b-c7ec-996ac2208881"
      },
      "execution_count": 44,
      "outputs": [
        {
          "output_type": "stream",
          "name": "stdout",
          "text": [
            "Sending iteration: # 0\n",
            "This diff between the first API call through PromptMule, and this call through PromptMule: {'values_changed': {'root[0]': {'new_value': b'{\"message\":\"Authorization header requires \\'Credential\\' parameter. Authorization header requires \\'Signature\\' parameter. Authoriza', 'old_value': b'{\"daily-stats\": [{\"date\": \"2023-07-29\", \"requests\": 11, \"cache-hits\": 8}, {\"date\": \"2023-07-30\", \"requests\": 30, \"cache-hits\": 2'}, 'root[1]': {'new_value': b\"tion header requires 'SignedHeaders' parameter. Authorization header requires existence of either a 'X-Amz-Date' or a 'Date' hea\", 'old_value': b'9}, {\"date\": \"2023-07-31\", \"requests\": 67, \"cache-hits\": 64}]}'}}, 'iterable_item_added': {'root[2]': b'der. Authorization=eyJraWQiOiJ4bjRWQklyOFpkWkVjZXFtMVQ4WHYyZ2FaRHBySVJBZlhDUFpDOHVua1U4PSIsImFsZyI6IlJTMjU2In0.eyJzdWIiOiIyNzIwO', 'root[3]': b'TdlZi04ZjE2LTQ1MTUtODJjOC1lZGM3OWYyYzc1OTAiLCJjb2duaXRvOmdyb3VwcyI6WyJkZXZlbG9wZXIiXSwiZW1haWxfdmVyaWZpZWQiOnRydWUsImlzcyI6Imh0d', 'root[4]': b'HBzOlwvXC9jb2duaXRvLWlkcC51cy13ZXN0LTIuYW1hem9uYXdzLmNvbVwvdXMtd2VzdC0yX3BEU0lvRklaYyIsImNvZ25pdG86dXNlcm5hbWUiOiJtYXR0MiIsIm9ya', 'root[5]': b'Wdpbl9qdGkiOiJjNjBkNmExMy02ZmIzLTRhOTQtYmM5ZC05YWM3MjE0ODRmMGEiLCJhdWQiOiIxZWVhb2tkY2szMG0wamx1OG44ZGlubWN0aCIsImV2ZW50X2lkIjoiM', 'root[6]': b'mY1YTcwNjUtMjk2MC00ZjQ5LTkyNWQtNGY4ODhhZGY2YWQ1IiwidG9rZW5fdXNlIjoiaWQiLCJhdXRoX3RpbWUiOjE2OTA3NjMyNDYsImV4cCI6MTY5MDc2Njg0Niwia', 'root[7]': b'WF0IjoxNjkwNzYzMjQ2LCJqdGkiOiI2MzQxOTk2NC03YTNjLTQxOTItOGFiNy1mMzlkYWVlMmNlODgiLCJlbWFpbCI6ImluZm9AcHJvbXB0bXVsZS5jb20ifQ.XVAATG', 'root[8]': b'24jykcR0EUV63xZsNv2dzbLZFV4bm7ey_pa_4YcIpvfholhSBuu58S_mbZchoVAUiyKq9Ens_iC4WuSiZO3BK_F6sxZ9COWUMqdEZfhkLlRV6Gb_V5OTouYip_0Z3JIT', 'root[9]': b'zQjAvncfuqhQG9yxFtPsdTdCwQEtKm3oyoMPRS0Psq1u_XhlnLtefjLGuBcE0jDcq5In-_NghqrzaulmMTLPkhg-z7sSG_oD1mxgpkquR_rvvxP51RzMMu4nlji-kL77', 'root[10]': b'W2SNatUK-pd9UtEaAl_iPa3xqJcsQg2qy8J0eeWFd-Q6-TL63FzbZ9MxVAPqISCi4p0lvpaSpjDzODfA\"}'}}\n",
            "Sending iteration: # 1\n",
            "This diff between the first API call through PromptMule, and this call through PromptMule: {'values_changed': {'root[0]': {'new_value': b'{\"message\":\"Authorization header requires \\'Credential\\' parameter. Authorization header requires \\'Signature\\' parameter. Authoriza', 'old_value': b'{\"daily-stats\": [{\"date\": \"2023-07-29\", \"requests\": 11, \"cache-hits\": 8}, {\"date\": \"2023-07-30\", \"requests\": 30, \"cache-hits\": 2'}, 'root[1]': {'new_value': b\"tion header requires 'SignedHeaders' parameter. Authorization header requires existence of either a 'X-Amz-Date' or a 'Date' hea\", 'old_value': b'9}, {\"date\": \"2023-07-31\", \"requests\": 67, \"cache-hits\": 64}]}'}}, 'iterable_item_added': {'root[2]': b'der. Authorization=eyJraWQiOiJ4bjRWQklyOFpkWkVjZXFtMVQ4WHYyZ2FaRHBySVJBZlhDUFpDOHVua1U4PSIsImFsZyI6IlJTMjU2In0.eyJzdWIiOiIyNzIwO', 'root[3]': b'TdlZi04ZjE2LTQ1MTUtODJjOC1lZGM3OWYyYzc1OTAiLCJjb2duaXRvOmdyb3VwcyI6WyJkZXZlbG9wZXIiXSwiZW1haWxfdmVyaWZpZWQiOnRydWUsImlzcyI6Imh0d', 'root[4]': b'HBzOlwvXC9jb2duaXRvLWlkcC51cy13ZXN0LTIuYW1hem9uYXdzLmNvbVwvdXMtd2VzdC0yX3BEU0lvRklaYyIsImNvZ25pdG86dXNlcm5hbWUiOiJtYXR0MiIsIm9ya', 'root[5]': b'Wdpbl9qdGkiOiJjNjBkNmExMy02ZmIzLTRhOTQtYmM5ZC05YWM3MjE0ODRmMGEiLCJhdWQiOiIxZWVhb2tkY2szMG0wamx1OG44ZGlubWN0aCIsImV2ZW50X2lkIjoiM', 'root[6]': b'mY1YTcwNjUtMjk2MC00ZjQ5LTkyNWQtNGY4ODhhZGY2YWQ1IiwidG9rZW5fdXNlIjoiaWQiLCJhdXRoX3RpbWUiOjE2OTA3NjMyNDYsImV4cCI6MTY5MDc2Njg0Niwia', 'root[7]': b'WF0IjoxNjkwNzYzMjQ2LCJqdGkiOiI2MzQxOTk2NC03YTNjLTQxOTItOGFiNy1mMzlkYWVlMmNlODgiLCJlbWFpbCI6ImluZm9AcHJvbXB0bXVsZS5jb20ifQ.XVAATG', 'root[8]': b'24jykcR0EUV63xZsNv2dzbLZFV4bm7ey_pa_4YcIpvfholhSBuu58S_mbZchoVAUiyKq9Ens_iC4WuSiZO3BK_F6sxZ9COWUMqdEZfhkLlRV6Gb_V5OTouYip_0Z3JIT', 'root[9]': b'zQjAvncfuqhQG9yxFtPsdTdCwQEtKm3oyoMPRS0Psq1u_XhlnLtefjLGuBcE0jDcq5In-_NghqrzaulmMTLPkhg-z7sSG_oD1mxgpkquR_rvvxP51RzMMu4nlji-kL77', 'root[10]': b'W2SNatUK-pd9UtEaAl_iPa3xqJcsQg2qy8J0eeWFd-Q6-TL63FzbZ9MxVAPqISCi4p0lvpaSpjDzODfA\"}'}}\n",
            "Sending iteration: # 2\n",
            "This diff between the first API call through PromptMule, and this call through PromptMule: {'values_changed': {'root[0]': {'new_value': b'{\"message\":\"Authorization header requires \\'Credential\\' parameter. Authorization header requires \\'Signature\\' parameter. Authoriza', 'old_value': b'{\"daily-stats\": [{\"date\": \"2023-07-29\", \"requests\": 11, \"cache-hits\": 8}, {\"date\": \"2023-07-30\", \"requests\": 30, \"cache-hits\": 2'}, 'root[1]': {'new_value': b\"tion header requires 'SignedHeaders' parameter. Authorization header requires existence of either a 'X-Amz-Date' or a 'Date' hea\", 'old_value': b'9}, {\"date\": \"2023-07-31\", \"requests\": 67, \"cache-hits\": 64}]}'}}, 'iterable_item_added': {'root[2]': b'der. Authorization=eyJraWQiOiJ4bjRWQklyOFpkWkVjZXFtMVQ4WHYyZ2FaRHBySVJBZlhDUFpDOHVua1U4PSIsImFsZyI6IlJTMjU2In0.eyJzdWIiOiIyNzIwO', 'root[3]': b'TdlZi04ZjE2LTQ1MTUtODJjOC1lZGM3OWYyYzc1OTAiLCJjb2duaXRvOmdyb3VwcyI6WyJkZXZlbG9wZXIiXSwiZW1haWxfdmVyaWZpZWQiOnRydWUsImlzcyI6Imh0d', 'root[4]': b'HBzOlwvXC9jb2duaXRvLWlkcC51cy13ZXN0LTIuYW1hem9uYXdzLmNvbVwvdXMtd2VzdC0yX3BEU0lvRklaYyIsImNvZ25pdG86dXNlcm5hbWUiOiJtYXR0MiIsIm9ya', 'root[5]': b'Wdpbl9qdGkiOiJjNjBkNmExMy02ZmIzLTRhOTQtYmM5ZC05YWM3MjE0ODRmMGEiLCJhdWQiOiIxZWVhb2tkY2szMG0wamx1OG44ZGlubWN0aCIsImV2ZW50X2lkIjoiM', 'root[6]': b'mY1YTcwNjUtMjk2MC00ZjQ5LTkyNWQtNGY4ODhhZGY2YWQ1IiwidG9rZW5fdXNlIjoiaWQiLCJhdXRoX3RpbWUiOjE2OTA3NjMyNDYsImV4cCI6MTY5MDc2Njg0Niwia', 'root[7]': b'WF0IjoxNjkwNzYzMjQ2LCJqdGkiOiI2MzQxOTk2NC03YTNjLTQxOTItOGFiNy1mMzlkYWVlMmNlODgiLCJlbWFpbCI6ImluZm9AcHJvbXB0bXVsZS5jb20ifQ.XVAATG', 'root[8]': b'24jykcR0EUV63xZsNv2dzbLZFV4bm7ey_pa_4YcIpvfholhSBuu58S_mbZchoVAUiyKq9Ens_iC4WuSiZO3BK_F6sxZ9COWUMqdEZfhkLlRV6Gb_V5OTouYip_0Z3JIT', 'root[9]': b'zQjAvncfuqhQG9yxFtPsdTdCwQEtKm3oyoMPRS0Psq1u_XhlnLtefjLGuBcE0jDcq5In-_NghqrzaulmMTLPkhg-z7sSG_oD1mxgpkquR_rvvxP51RzMMu4nlji-kL77', 'root[10]': b'W2SNatUK-pd9UtEaAl_iPa3xqJcsQg2qy8J0eeWFd-Q6-TL63FzbZ9MxVAPqISCi4p0lvpaSpjDzODfA\"}'}}\n",
            "Sending iteration: # 3\n",
            "This diff between the first API call through PromptMule, and this call through PromptMule: {'values_changed': {'root[0]': {'new_value': b'{\"message\":\"Authorization header requires \\'Credential\\' parameter. Authorization header requires \\'Signature\\' parameter. Authoriza', 'old_value': b'{\"daily-stats\": [{\"date\": \"2023-07-29\", \"requests\": 11, \"cache-hits\": 8}, {\"date\": \"2023-07-30\", \"requests\": 30, \"cache-hits\": 2'}, 'root[1]': {'new_value': b\"tion header requires 'SignedHeaders' parameter. Authorization header requires existence of either a 'X-Amz-Date' or a 'Date' hea\", 'old_value': b'9}, {\"date\": \"2023-07-31\", \"requests\": 67, \"cache-hits\": 64}]}'}}, 'iterable_item_added': {'root[2]': b'der. Authorization=eyJraWQiOiJ4bjRWQklyOFpkWkVjZXFtMVQ4WHYyZ2FaRHBySVJBZlhDUFpDOHVua1U4PSIsImFsZyI6IlJTMjU2In0.eyJzdWIiOiIyNzIwO', 'root[3]': b'TdlZi04ZjE2LTQ1MTUtODJjOC1lZGM3OWYyYzc1OTAiLCJjb2duaXRvOmdyb3VwcyI6WyJkZXZlbG9wZXIiXSwiZW1haWxfdmVyaWZpZWQiOnRydWUsImlzcyI6Imh0d', 'root[4]': b'HBzOlwvXC9jb2duaXRvLWlkcC51cy13ZXN0LTIuYW1hem9uYXdzLmNvbVwvdXMtd2VzdC0yX3BEU0lvRklaYyIsImNvZ25pdG86dXNlcm5hbWUiOiJtYXR0MiIsIm9ya', 'root[5]': b'Wdpbl9qdGkiOiJjNjBkNmExMy02ZmIzLTRhOTQtYmM5ZC05YWM3MjE0ODRmMGEiLCJhdWQiOiIxZWVhb2tkY2szMG0wamx1OG44ZGlubWN0aCIsImV2ZW50X2lkIjoiM', 'root[6]': b'mY1YTcwNjUtMjk2MC00ZjQ5LTkyNWQtNGY4ODhhZGY2YWQ1IiwidG9rZW5fdXNlIjoiaWQiLCJhdXRoX3RpbWUiOjE2OTA3NjMyNDYsImV4cCI6MTY5MDc2Njg0Niwia', 'root[7]': b'WF0IjoxNjkwNzYzMjQ2LCJqdGkiOiI2MzQxOTk2NC03YTNjLTQxOTItOGFiNy1mMzlkYWVlMmNlODgiLCJlbWFpbCI6ImluZm9AcHJvbXB0bXVsZS5jb20ifQ.XVAATG', 'root[8]': b'24jykcR0EUV63xZsNv2dzbLZFV4bm7ey_pa_4YcIpvfholhSBuu58S_mbZchoVAUiyKq9Ens_iC4WuSiZO3BK_F6sxZ9COWUMqdEZfhkLlRV6Gb_V5OTouYip_0Z3JIT', 'root[9]': b'zQjAvncfuqhQG9yxFtPsdTdCwQEtKm3oyoMPRS0Psq1u_XhlnLtefjLGuBcE0jDcq5In-_NghqrzaulmMTLPkhg-z7sSG_oD1mxgpkquR_rvvxP51RzMMu4nlji-kL77', 'root[10]': b'W2SNatUK-pd9UtEaAl_iPa3xqJcsQg2qy8J0eeWFd-Q6-TL63FzbZ9MxVAPqISCi4p0lvpaSpjDzODfA\"}'}}\n",
            "Sending iteration: # 4\n",
            "This diff between the first API call through PromptMule, and this call through PromptMule: {'values_changed': {'root[0]': {'new_value': b'{\"message\":\"Authorization header requires \\'Credential\\' parameter. Authorization header requires \\'Signature\\' parameter. Authoriza', 'old_value': b'{\"daily-stats\": [{\"date\": \"2023-07-29\", \"requests\": 11, \"cache-hits\": 8}, {\"date\": \"2023-07-30\", \"requests\": 30, \"cache-hits\": 2'}, 'root[1]': {'new_value': b\"tion header requires 'SignedHeaders' parameter. Authorization header requires existence of either a 'X-Amz-Date' or a 'Date' hea\", 'old_value': b'9}, {\"date\": \"2023-07-31\", \"requests\": 67, \"cache-hits\": 64}]}'}}, 'iterable_item_added': {'root[2]': b'der. Authorization=eyJraWQiOiJ4bjRWQklyOFpkWkVjZXFtMVQ4WHYyZ2FaRHBySVJBZlhDUFpDOHVua1U4PSIsImFsZyI6IlJTMjU2In0.eyJzdWIiOiIyNzIwO', 'root[3]': b'TdlZi04ZjE2LTQ1MTUtODJjOC1lZGM3OWYyYzc1OTAiLCJjb2duaXRvOmdyb3VwcyI6WyJkZXZlbG9wZXIiXSwiZW1haWxfdmVyaWZpZWQiOnRydWUsImlzcyI6Imh0d', 'root[4]': b'HBzOlwvXC9jb2duaXRvLWlkcC51cy13ZXN0LTIuYW1hem9uYXdzLmNvbVwvdXMtd2VzdC0yX3BEU0lvRklaYyIsImNvZ25pdG86dXNlcm5hbWUiOiJtYXR0MiIsIm9ya', 'root[5]': b'Wdpbl9qdGkiOiJjNjBkNmExMy02ZmIzLTRhOTQtYmM5ZC05YWM3MjE0ODRmMGEiLCJhdWQiOiIxZWVhb2tkY2szMG0wamx1OG44ZGlubWN0aCIsImV2ZW50X2lkIjoiM', 'root[6]': b'mY1YTcwNjUtMjk2MC00ZjQ5LTkyNWQtNGY4ODhhZGY2YWQ1IiwidG9rZW5fdXNlIjoiaWQiLCJhdXRoX3RpbWUiOjE2OTA3NjMyNDYsImV4cCI6MTY5MDc2Njg0Niwia', 'root[7]': b'WF0IjoxNjkwNzYzMjQ2LCJqdGkiOiI2MzQxOTk2NC03YTNjLTQxOTItOGFiNy1mMzlkYWVlMmNlODgiLCJlbWFpbCI6ImluZm9AcHJvbXB0bXVsZS5jb20ifQ.XVAATG', 'root[8]': b'24jykcR0EUV63xZsNv2dzbLZFV4bm7ey_pa_4YcIpvfholhSBuu58S_mbZchoVAUiyKq9Ens_iC4WuSiZO3BK_F6sxZ9COWUMqdEZfhkLlRV6Gb_V5OTouYip_0Z3JIT', 'root[9]': b'zQjAvncfuqhQG9yxFtPsdTdCwQEtKm3oyoMPRS0Psq1u_XhlnLtefjLGuBcE0jDcq5In-_NghqrzaulmMTLPkhg-z7sSG_oD1mxgpkquR_rvvxP51RzMMu4nlji-kL77', 'root[10]': b'W2SNatUK-pd9UtEaAl_iPa3xqJcsQg2qy8J0eeWFd-Q6-TL63FzbZ9MxVAPqISCi4p0lvpaSpjDzODfA\"}'}}\n",
            "Sending iteration: # 5\n",
            "This diff between the first API call through PromptMule, and this call through PromptMule: {'values_changed': {'root[0]': {'new_value': b'{\"message\":\"Authorization header requires \\'Credential\\' parameter. Authorization header requires \\'Signature\\' parameter. Authoriza', 'old_value': b'{\"daily-stats\": [{\"date\": \"2023-07-29\", \"requests\": 11, \"cache-hits\": 8}, {\"date\": \"2023-07-30\", \"requests\": 30, \"cache-hits\": 2'}, 'root[1]': {'new_value': b\"tion header requires 'SignedHeaders' parameter. Authorization header requires existence of either a 'X-Amz-Date' or a 'Date' hea\", 'old_value': b'9}, {\"date\": \"2023-07-31\", \"requests\": 67, \"cache-hits\": 64}]}'}}, 'iterable_item_added': {'root[2]': b'der. Authorization=eyJraWQiOiJ4bjRWQklyOFpkWkVjZXFtMVQ4WHYyZ2FaRHBySVJBZlhDUFpDOHVua1U4PSIsImFsZyI6IlJTMjU2In0.eyJzdWIiOiIyNzIwO', 'root[3]': b'TdlZi04ZjE2LTQ1MTUtODJjOC1lZGM3OWYyYzc1OTAiLCJjb2duaXRvOmdyb3VwcyI6WyJkZXZlbG9wZXIiXSwiZW1haWxfdmVyaWZpZWQiOnRydWUsImlzcyI6Imh0d', 'root[4]': b'HBzOlwvXC9jb2duaXRvLWlkcC51cy13ZXN0LTIuYW1hem9uYXdzLmNvbVwvdXMtd2VzdC0yX3BEU0lvRklaYyIsImNvZ25pdG86dXNlcm5hbWUiOiJtYXR0MiIsIm9ya', 'root[5]': b'Wdpbl9qdGkiOiJjNjBkNmExMy02ZmIzLTRhOTQtYmM5ZC05YWM3MjE0ODRmMGEiLCJhdWQiOiIxZWVhb2tkY2szMG0wamx1OG44ZGlubWN0aCIsImV2ZW50X2lkIjoiM', 'root[6]': b'mY1YTcwNjUtMjk2MC00ZjQ5LTkyNWQtNGY4ODhhZGY2YWQ1IiwidG9rZW5fdXNlIjoiaWQiLCJhdXRoX3RpbWUiOjE2OTA3NjMyNDYsImV4cCI6MTY5MDc2Njg0Niwia', 'root[7]': b'WF0IjoxNjkwNzYzMjQ2LCJqdGkiOiI2MzQxOTk2NC03YTNjLTQxOTItOGFiNy1mMzlkYWVlMmNlODgiLCJlbWFpbCI6ImluZm9AcHJvbXB0bXVsZS5jb20ifQ.XVAATG', 'root[8]': b'24jykcR0EUV63xZsNv2dzbLZFV4bm7ey_pa_4YcIpvfholhSBuu58S_mbZchoVAUiyKq9Ens_iC4WuSiZO3BK_F6sxZ9COWUMqdEZfhkLlRV6Gb_V5OTouYip_0Z3JIT', 'root[9]': b'zQjAvncfuqhQG9yxFtPsdTdCwQEtKm3oyoMPRS0Psq1u_XhlnLtefjLGuBcE0jDcq5In-_NghqrzaulmMTLPkhg-z7sSG_oD1mxgpkquR_rvvxP51RzMMu4nlji-kL77', 'root[10]': b'W2SNatUK-pd9UtEaAl_iPa3xqJcsQg2qy8J0eeWFd-Q6-TL63FzbZ9MxVAPqISCi4p0lvpaSpjDzODfA\"}'}}\n",
            "Sending iteration: # 6\n",
            "This diff between the first API call through PromptMule, and this call through PromptMule: {'values_changed': {'root[0]': {'new_value': b'{\"message\":\"Authorization header requires \\'Credential\\' parameter. Authorization header requires \\'Signature\\' parameter. Authoriza', 'old_value': b'{\"daily-stats\": [{\"date\": \"2023-07-29\", \"requests\": 11, \"cache-hits\": 8}, {\"date\": \"2023-07-30\", \"requests\": 30, \"cache-hits\": 2'}, 'root[1]': {'new_value': b\"tion header requires 'SignedHeaders' parameter. Authorization header requires existence of either a 'X-Amz-Date' or a 'Date' hea\", 'old_value': b'9}, {\"date\": \"2023-07-31\", \"requests\": 67, \"cache-hits\": 64}]}'}}, 'iterable_item_added': {'root[2]': b'der. Authorization=eyJraWQiOiJ4bjRWQklyOFpkWkVjZXFtMVQ4WHYyZ2FaRHBySVJBZlhDUFpDOHVua1U4PSIsImFsZyI6IlJTMjU2In0.eyJzdWIiOiIyNzIwO', 'root[3]': b'TdlZi04ZjE2LTQ1MTUtODJjOC1lZGM3OWYyYzc1OTAiLCJjb2duaXRvOmdyb3VwcyI6WyJkZXZlbG9wZXIiXSwiZW1haWxfdmVyaWZpZWQiOnRydWUsImlzcyI6Imh0d', 'root[4]': b'HBzOlwvXC9jb2duaXRvLWlkcC51cy13ZXN0LTIuYW1hem9uYXdzLmNvbVwvdXMtd2VzdC0yX3BEU0lvRklaYyIsImNvZ25pdG86dXNlcm5hbWUiOiJtYXR0MiIsIm9ya', 'root[5]': b'Wdpbl9qdGkiOiJjNjBkNmExMy02ZmIzLTRhOTQtYmM5ZC05YWM3MjE0ODRmMGEiLCJhdWQiOiIxZWVhb2tkY2szMG0wamx1OG44ZGlubWN0aCIsImV2ZW50X2lkIjoiM', 'root[6]': b'mY1YTcwNjUtMjk2MC00ZjQ5LTkyNWQtNGY4ODhhZGY2YWQ1IiwidG9rZW5fdXNlIjoiaWQiLCJhdXRoX3RpbWUiOjE2OTA3NjMyNDYsImV4cCI6MTY5MDc2Njg0Niwia', 'root[7]': b'WF0IjoxNjkwNzYzMjQ2LCJqdGkiOiI2MzQxOTk2NC03YTNjLTQxOTItOGFiNy1mMzlkYWVlMmNlODgiLCJlbWFpbCI6ImluZm9AcHJvbXB0bXVsZS5jb20ifQ.XVAATG', 'root[8]': b'24jykcR0EUV63xZsNv2dzbLZFV4bm7ey_pa_4YcIpvfholhSBuu58S_mbZchoVAUiyKq9Ens_iC4WuSiZO3BK_F6sxZ9COWUMqdEZfhkLlRV6Gb_V5OTouYip_0Z3JIT', 'root[9]': b'zQjAvncfuqhQG9yxFtPsdTdCwQEtKm3oyoMPRS0Psq1u_XhlnLtefjLGuBcE0jDcq5In-_NghqrzaulmMTLPkhg-z7sSG_oD1mxgpkquR_rvvxP51RzMMu4nlji-kL77', 'root[10]': b'W2SNatUK-pd9UtEaAl_iPa3xqJcsQg2qy8J0eeWFd-Q6-TL63FzbZ9MxVAPqISCi4p0lvpaSpjDzODfA\"}'}}\n",
            "Sending iteration: # 7\n",
            "This diff between the first API call through PromptMule, and this call through PromptMule: {'values_changed': {'root[0]': {'new_value': b'{\"message\":\"Authorization header requires \\'Credential\\' parameter. Authorization header requires \\'Signature\\' parameter. Authoriza', 'old_value': b'{\"daily-stats\": [{\"date\": \"2023-07-29\", \"requests\": 11, \"cache-hits\": 8}, {\"date\": \"2023-07-30\", \"requests\": 30, \"cache-hits\": 2'}, 'root[1]': {'new_value': b\"tion header requires 'SignedHeaders' parameter. Authorization header requires existence of either a 'X-Amz-Date' or a 'Date' hea\", 'old_value': b'9}, {\"date\": \"2023-07-31\", \"requests\": 67, \"cache-hits\": 64}]}'}}, 'iterable_item_added': {'root[2]': b'der. Authorization=eyJraWQiOiJ4bjRWQklyOFpkWkVjZXFtMVQ4WHYyZ2FaRHBySVJBZlhDUFpDOHVua1U4PSIsImFsZyI6IlJTMjU2In0.eyJzdWIiOiIyNzIwO', 'root[3]': b'TdlZi04ZjE2LTQ1MTUtODJjOC1lZGM3OWYyYzc1OTAiLCJjb2duaXRvOmdyb3VwcyI6WyJkZXZlbG9wZXIiXSwiZW1haWxfdmVyaWZpZWQiOnRydWUsImlzcyI6Imh0d', 'root[4]': b'HBzOlwvXC9jb2duaXRvLWlkcC51cy13ZXN0LTIuYW1hem9uYXdzLmNvbVwvdXMtd2VzdC0yX3BEU0lvRklaYyIsImNvZ25pdG86dXNlcm5hbWUiOiJtYXR0MiIsIm9ya', 'root[5]': b'Wdpbl9qdGkiOiJjNjBkNmExMy02ZmIzLTRhOTQtYmM5ZC05YWM3MjE0ODRmMGEiLCJhdWQiOiIxZWVhb2tkY2szMG0wamx1OG44ZGlubWN0aCIsImV2ZW50X2lkIjoiM', 'root[6]': b'mY1YTcwNjUtMjk2MC00ZjQ5LTkyNWQtNGY4ODhhZGY2YWQ1IiwidG9rZW5fdXNlIjoiaWQiLCJhdXRoX3RpbWUiOjE2OTA3NjMyNDYsImV4cCI6MTY5MDc2Njg0Niwia', 'root[7]': b'WF0IjoxNjkwNzYzMjQ2LCJqdGkiOiI2MzQxOTk2NC03YTNjLTQxOTItOGFiNy1mMzlkYWVlMmNlODgiLCJlbWFpbCI6ImluZm9AcHJvbXB0bXVsZS5jb20ifQ.XVAATG', 'root[8]': b'24jykcR0EUV63xZsNv2dzbLZFV4bm7ey_pa_4YcIpvfholhSBuu58S_mbZchoVAUiyKq9Ens_iC4WuSiZO3BK_F6sxZ9COWUMqdEZfhkLlRV6Gb_V5OTouYip_0Z3JIT', 'root[9]': b'zQjAvncfuqhQG9yxFtPsdTdCwQEtKm3oyoMPRS0Psq1u_XhlnLtefjLGuBcE0jDcq5In-_NghqrzaulmMTLPkhg-z7sSG_oD1mxgpkquR_rvvxP51RzMMu4nlji-kL77', 'root[10]': b'W2SNatUK-pd9UtEaAl_iPa3xqJcsQg2qy8J0eeWFd-Q6-TL63FzbZ9MxVAPqISCi4p0lvpaSpjDzODfA\"}'}}\n",
            "Sending iteration: # 8\n",
            "This diff between the first API call through PromptMule, and this call through PromptMule: {'values_changed': {'root[0]': {'new_value': b'{\"message\":\"Authorization header requires \\'Credential\\' parameter. Authorization header requires \\'Signature\\' parameter. Authoriza', 'old_value': b'{\"daily-stats\": [{\"date\": \"2023-07-29\", \"requests\": 11, \"cache-hits\": 8}, {\"date\": \"2023-07-30\", \"requests\": 30, \"cache-hits\": 2'}, 'root[1]': {'new_value': b\"tion header requires 'SignedHeaders' parameter. Authorization header requires existence of either a 'X-Amz-Date' or a 'Date' hea\", 'old_value': b'9}, {\"date\": \"2023-07-31\", \"requests\": 67, \"cache-hits\": 64}]}'}}, 'iterable_item_added': {'root[2]': b'der. Authorization=eyJraWQiOiJ4bjRWQklyOFpkWkVjZXFtMVQ4WHYyZ2FaRHBySVJBZlhDUFpDOHVua1U4PSIsImFsZyI6IlJTMjU2In0.eyJzdWIiOiIyNzIwO', 'root[3]': b'TdlZi04ZjE2LTQ1MTUtODJjOC1lZGM3OWYyYzc1OTAiLCJjb2duaXRvOmdyb3VwcyI6WyJkZXZlbG9wZXIiXSwiZW1haWxfdmVyaWZpZWQiOnRydWUsImlzcyI6Imh0d', 'root[4]': b'HBzOlwvXC9jb2duaXRvLWlkcC51cy13ZXN0LTIuYW1hem9uYXdzLmNvbVwvdXMtd2VzdC0yX3BEU0lvRklaYyIsImNvZ25pdG86dXNlcm5hbWUiOiJtYXR0MiIsIm9ya', 'root[5]': b'Wdpbl9qdGkiOiJjNjBkNmExMy02ZmIzLTRhOTQtYmM5ZC05YWM3MjE0ODRmMGEiLCJhdWQiOiIxZWVhb2tkY2szMG0wamx1OG44ZGlubWN0aCIsImV2ZW50X2lkIjoiM', 'root[6]': b'mY1YTcwNjUtMjk2MC00ZjQ5LTkyNWQtNGY4ODhhZGY2YWQ1IiwidG9rZW5fdXNlIjoiaWQiLCJhdXRoX3RpbWUiOjE2OTA3NjMyNDYsImV4cCI6MTY5MDc2Njg0Niwia', 'root[7]': b'WF0IjoxNjkwNzYzMjQ2LCJqdGkiOiI2MzQxOTk2NC03YTNjLTQxOTItOGFiNy1mMzlkYWVlMmNlODgiLCJlbWFpbCI6ImluZm9AcHJvbXB0bXVsZS5jb20ifQ.XVAATG', 'root[8]': b'24jykcR0EUV63xZsNv2dzbLZFV4bm7ey_pa_4YcIpvfholhSBuu58S_mbZchoVAUiyKq9Ens_iC4WuSiZO3BK_F6sxZ9COWUMqdEZfhkLlRV6Gb_V5OTouYip_0Z3JIT', 'root[9]': b'zQjAvncfuqhQG9yxFtPsdTdCwQEtKm3oyoMPRS0Psq1u_XhlnLtefjLGuBcE0jDcq5In-_NghqrzaulmMTLPkhg-z7sSG_oD1mxgpkquR_rvvxP51RzMMu4nlji-kL77', 'root[10]': b'W2SNatUK-pd9UtEaAl_iPa3xqJcsQg2qy8J0eeWFd-Q6-TL63FzbZ9MxVAPqISCi4p0lvpaSpjDzODfA\"}'}}\n",
            "Sending iteration: # 9\n",
            "This diff between the first API call through PromptMule, and this call through PromptMule: {'values_changed': {'root[0]': {'new_value': b'{\"message\":\"Authorization header requires \\'Credential\\' parameter. Authorization header requires \\'Signature\\' parameter. Authoriza', 'old_value': b'{\"daily-stats\": [{\"date\": \"2023-07-29\", \"requests\": 11, \"cache-hits\": 8}, {\"date\": \"2023-07-30\", \"requests\": 30, \"cache-hits\": 2'}, 'root[1]': {'new_value': b\"tion header requires 'SignedHeaders' parameter. Authorization header requires existence of either a 'X-Amz-Date' or a 'Date' hea\", 'old_value': b'9}, {\"date\": \"2023-07-31\", \"requests\": 67, \"cache-hits\": 64}]}'}}, 'iterable_item_added': {'root[2]': b'der. Authorization=eyJraWQiOiJ4bjRWQklyOFpkWkVjZXFtMVQ4WHYyZ2FaRHBySVJBZlhDUFpDOHVua1U4PSIsImFsZyI6IlJTMjU2In0.eyJzdWIiOiIyNzIwO', 'root[3]': b'TdlZi04ZjE2LTQ1MTUtODJjOC1lZGM3OWYyYzc1OTAiLCJjb2duaXRvOmdyb3VwcyI6WyJkZXZlbG9wZXIiXSwiZW1haWxfdmVyaWZpZWQiOnRydWUsImlzcyI6Imh0d', 'root[4]': b'HBzOlwvXC9jb2duaXRvLWlkcC51cy13ZXN0LTIuYW1hem9uYXdzLmNvbVwvdXMtd2VzdC0yX3BEU0lvRklaYyIsImNvZ25pdG86dXNlcm5hbWUiOiJtYXR0MiIsIm9ya', 'root[5]': b'Wdpbl9qdGkiOiJjNjBkNmExMy02ZmIzLTRhOTQtYmM5ZC05YWM3MjE0ODRmMGEiLCJhdWQiOiIxZWVhb2tkY2szMG0wamx1OG44ZGlubWN0aCIsImV2ZW50X2lkIjoiM', 'root[6]': b'mY1YTcwNjUtMjk2MC00ZjQ5LTkyNWQtNGY4ODhhZGY2YWQ1IiwidG9rZW5fdXNlIjoiaWQiLCJhdXRoX3RpbWUiOjE2OTA3NjMyNDYsImV4cCI6MTY5MDc2Njg0Niwia', 'root[7]': b'WF0IjoxNjkwNzYzMjQ2LCJqdGkiOiI2MzQxOTk2NC03YTNjLTQxOTItOGFiNy1mMzlkYWVlMmNlODgiLCJlbWFpbCI6ImluZm9AcHJvbXB0bXVsZS5jb20ifQ.XVAATG', 'root[8]': b'24jykcR0EUV63xZsNv2dzbLZFV4bm7ey_pa_4YcIpvfholhSBuu58S_mbZchoVAUiyKq9Ens_iC4WuSiZO3BK_F6sxZ9COWUMqdEZfhkLlRV6Gb_V5OTouYip_0Z3JIT', 'root[9]': b'zQjAvncfuqhQG9yxFtPsdTdCwQEtKm3oyoMPRS0Psq1u_XhlnLtefjLGuBcE0jDcq5In-_NghqrzaulmMTLPkhg-z7sSG_oD1mxgpkquR_rvvxP51RzMMu4nlji-kL77', 'root[10]': b'W2SNatUK-pd9UtEaAl_iPa3xqJcsQg2qy8J0eeWFd-Q6-TL63FzbZ9MxVAPqISCi4p0lvpaSpjDzODfA\"}'}}\n"
          ]
        }
      ]
    },
    {
      "cell_type": "code",
      "source": [
        "# This is the Application Use Report API based on a user's API KEY\n",
        "USAGE = \"usage\" # this is the Applicaton Use Report endpoint\n",
        "\n",
        "headers = {           # this is the /usage endpoint header\n",
        "    'Authorization': api_token,\n",
        "    'x-api-key': api_key,\n",
        "    'Content-Type': 'application/json'\n",
        "    }\n"
      ],
      "metadata": {
        "id": "1Ri02-PIDaBk"
      },
      "execution_count": 40,
      "outputs": []
    },
    {
      "cell_type": "code",
      "source": [
        "#Run the Application Usage Report for this API KEY\n",
        "promptmule = ENDPOINT + USAGE\n",
        "\n",
        "try:\n",
        "    promptmule_response = requests.get(promptmule, headers=headers)\n",
        "    response_json = json.loads(promptmule_response.text)\n",
        "\n",
        "    # Handle response\n",
        "    if promptmule_response.status_code == 200:\n",
        "        print(\"Response from PromptMule API successful:\\n\", json.dumps(response_json, indent=4))\n",
        "    elif promptmule_response.status_code == 400:\n",
        "        print(f\"Bad request. Details: {response_json}\")\n",
        "    elif promptmule_response.status_code == 500:\n",
        "        print(f\"Runtime Service Exception. Details: {response_json}\")\n",
        "    else:\n",
        "        print(f\"Unexpected status code {promptmule_response.status_code}. Details: {response_json}\")\n",
        "\n",
        "except requests.exceptions.HTTPError as errh:\n",
        "    print(f\"Http Error:{errh}\")\n",
        "\n",
        "except requests.exceptions.ConnectionError as errc:\n",
        "    print(f\"Error Connecting:{errc}\")\n",
        "\n",
        "except requests.exceptions.Timeout as errt:\n",
        "    print(f\"Timeout Error:{errt}\")\n",
        "\n",
        "except requests.exceptions.RequestException as err:\n",
        "    print(f\"Something went wrong with the request:{err}\")\n",
        "\n",
        "except Exception as e:\n",
        "    print(f\"An unexpected error occurred: {e}\")"
      ],
      "metadata": {
        "id": "FqJwHBCOGQAX",
        "colab": {
          "base_uri": "https://localhost:8080/"
        },
        "outputId": "db9d5850-c50e-455e-8b3a-d1f094ec4697"
      },
      "execution_count": 41,
      "outputs": [
        {
          "output_type": "stream",
          "name": "stdout",
          "text": [
            "Response from API successful:\n",
            " {\n",
            "    \"plan\": \"uw0aaw\",\n",
            "    \"request-limit\": 1018,\n",
            "    \"availed-requests\": 46,\n",
            "    \"cache-hits\": 101,\n",
            "    \"saved-cost\": \"$0.03914\"\n",
            "}\n"
          ]
        }
      ]
    },
    {
      "cell_type": "code",
      "source": [
        "# This is the header setup for the Application Use Report API based on a user's API KEY\n",
        "DATE_RANGE_REPORT = \"usage/daily-stats\" # this is the Applicaton Use Report endpoint\n",
        "\n",
        "headers = {           # this is the /usage endpoint header\n",
        "    'Authorization': api_token,\n",
        "    'x-api-key': api_key,\n",
        "    'Content-Type': 'application/json'\n",
        "    }"
      ],
      "metadata": {
        "id": "i5RQsclRIRgs"
      },
      "execution_count": 42,
      "outputs": []
    },
    {
      "cell_type": "code",
      "source": [
        "# Run the Date Range Report for Application per API KEY\n",
        "# set the Application Use Reporting endpoint\n",
        "promptmule = ENDPOINT + DATE_RANGE_REPORT\n",
        "try:\n",
        "    promptmule_response = requests.get(promptmule, headers=headers)\n",
        "    response_json = json.loads(promptmule_response.text)\n",
        "\n",
        "    # Handle response\n",
        "    if promptmule_response.status_code == 200:\n",
        "        print(\"Response from PromptMule API successful:\\n\", json.dumps(response_json, indent=4))\n",
        "    elif promptmule_response.status_code == 400:\n",
        "        print(f\"Bad request. Details: {response_json}\")\n",
        "    elif promptmule_response.status_code == 500:\n",
        "        print(f\"Runtime Service Exception. Details: {response_json}\")\n",
        "    else:\n",
        "        print(f\"Unexpected status code {promptmule_response.status_code}. Details: {response_json}\")\n",
        "\n",
        "except requests.exceptions.HTTPError as errh:\n",
        "    print(f\"Http Error:{errh}\")\n",
        "\n",
        "except requests.exceptions.ConnectionError as errc:\n",
        "    print(f\"Error Connecting:{errc}\")\n",
        "\n",
        "except requests.exceptions.Timeout as errt:\n",
        "    print(f\"Timeout Error:{errt}\")\n",
        "\n",
        "except requests.exceptions.RequestException as err:\n",
        "    print(f\"Something went wrong with the request:{err}\")\n",
        "\n",
        "except Exception as e:\n",
        "    print(f\"An unexpected error occurred: {e}\")"
      ],
      "metadata": {
        "colab": {
          "base_uri": "https://localhost:8080/"
        },
        "id": "BDUKILGpHr8Y",
        "outputId": "56a3e401-514a-4125-8671-c1dd272ae7d7"
      },
      "execution_count": 43,
      "outputs": [
        {
          "output_type": "stream",
          "name": "stdout",
          "text": [
            "Response from API successful:\n",
            " {\n",
            "    \"daily-stats\": [\n",
            "        {\n",
            "            \"date\": \"2023-07-29\",\n",
            "            \"requests\": 11,\n",
            "            \"cache-hits\": 8\n",
            "        },\n",
            "        {\n",
            "            \"date\": \"2023-07-30\",\n",
            "            \"requests\": 30,\n",
            "            \"cache-hits\": 29\n",
            "        },\n",
            "        {\n",
            "            \"date\": \"2023-07-31\",\n",
            "            \"requests\": 67,\n",
            "            \"cache-hits\": 64\n",
            "        }\n",
            "    ]\n",
            "}\n"
          ]
        }
      ]
    },
    {
      "cell_type": "markdown",
      "source": [
        "# Retreive all API Keys for a username"
      ],
      "metadata": {
        "id": "z-uRv0S8LrJj"
      }
    },
    {
      "cell_type": "code",
      "source": [
        "# This is the header setup for the Get All User API Keys\n",
        "GET_ALL_API_KEYS_PER_USER = \"api-keys\" # this is the Get ALL User API Keys endpoint\n",
        "\n",
        "headers = {           # this is the GET /api-keys endpoint header\n",
        "    'Authorization': api_token,\n",
        "    'Content-Type': 'application/json'\n",
        "    }"
      ],
      "metadata": {
        "id": "un0JjnHbMST8"
      },
      "execution_count": 46,
      "outputs": []
    },
    {
      "cell_type": "code",
      "source": [
        "# Run the Date Range Report for Application per API KEY\n",
        "# set the Get All Keys Reporting endpoint\n",
        "promptmule = ENDPOINT + GET_ALL_API_KEYS_PER_USER\n",
        "try:\n",
        "    promptmule_response = requests.get(promptmule, headers=headers)\n",
        "    response_json = json.loads(promptmule_response.text)\n",
        "\n",
        "    # Handle response\n",
        "    if promptmule_response.status_code == 200:\n",
        "        print(\"Get All Keys for Users successful:\\n\", json.dumps(response_json, indent=4))\n",
        "    elif promptmule_response.status_code == 400:\n",
        "        print(f\"Bad request. Details: {response_json}\")\n",
        "    elif promptmule_response.status_code == 500:\n",
        "        print(f\"Runtime Service Exception. Details: {response_json}\")\n",
        "    else:\n",
        "        print(f\"Unexpected status code {promptmule_response.status_code}. Details: {response_json}\")\n",
        "\n",
        "except requests.exceptions.HTTPError as errh:\n",
        "    print(f\"Http Error:{errh}\")\n",
        "\n",
        "except requests.exceptions.ConnectionError as errc:\n",
        "    print(f\"Error Connecting:{errc}\")\n",
        "\n",
        "except requests.exceptions.Timeout as errt:\n",
        "    print(f\"Timeout Error:{errt}\")\n",
        "\n",
        "except requests.exceptions.RequestException as err:\n",
        "    print(f\"Something went wrong with the request:{err}\")\n",
        "\n",
        "except Exception as e:\n",
        "    print(f\"An unexpected error occurred: {e}\")"
      ],
      "metadata": {
        "id": "ZQOuYzPeLkEI",
        "colab": {
          "base_uri": "https://localhost:8080/"
        },
        "outputId": "3e982ecd-6c18-4356-8642-63494f8ac94a"
      },
      "execution_count": 47,
      "outputs": [
        {
          "output_type": "stream",
          "name": "stdout",
          "text": [
            "Get All Keys for Users successful:\n",
            " {\n",
            "    \"api-keys\": [\n",
            "        {\n",
            "            \"api-key\": \"Z0QTN43Abq2ghT51qfIAI9QgIJbxK7vV4eEYG67C\",\n",
            "            \"app-name\": \"newapp\"\n",
            "        }\n",
            "    ]\n",
            "}\n"
          ]
        }
      ]
    },
    {
      "cell_type": "code",
      "source": [
        "# This is the header setup for the Get All User Prompts\n",
        "PROMPT = \"prompt\" # this is the Get ALL User API Keys endpoint\n",
        "\n",
        "headers = {           # this is the GET /api-keys endpoint header\n",
        "    'Authorization': api_token,\n",
        "    'x-api-key': api_key,\n",
        "    'Content-Type': 'application/json',\n",
        "    'Credential': '', # Bug?\n",
        "    'Signature': '',\n",
        "    'SignedHeaders': '',\n",
        "    'Date': ''\n",
        "    }\n",
        "# NOTE the use of parameters here to convey the start date of the prompts you want to retrieve and the end date. Also, you can choose to ask for prompts that have been cached or not, this is done with the \"is_cached\" parameter, where 'TRUE' means that the values will be returned form the live cache, and 'FALSE' returns any prompt that has occured between the two dates. Finally, 'limit' is the maximum number (int) between 1 and 100 of the prompts to return in the reply json.\n",
        "params = {\n",
        "    'start-date': '2023-07-01', # First Date to begin Search for Prompts\n",
        "    'end-date': '2023-07-27', # Date to end Search for Prompts\n",
        "    'is-cached': 'False', # Whether or not to include Cache in Search\n",
        "    'limit': '10' # The Maximum number of Prompt/Respons pairs to return\n",
        "}"
      ],
      "metadata": {
        "id": "FY_Ru0ljNdDJ"
      },
      "execution_count": 55,
      "outputs": []
    },
    {
      "cell_type": "code",
      "source": [
        "# Run the Prompt/Response Report for a Date Rannge\n",
        "# set the Prompt/Response endpoint\n",
        "promptmule = ENDPOINT + PROMPT\n",
        "\n",
        "try:\n",
        "    promptmule_response = requests.get(ENDPOINT, headers=headers, params=params)\n",
        "    response_json = json.loads(promptmule_response.text)\n",
        "\n",
        "    # Handle response\n",
        "    if promptmule_response.status_code == 200:\n",
        "        print(\"The prompts were found successfully:\\n\", json.dumps(response_json, indent=4))\n",
        "    elif promptmule_response.status_code == 400:\n",
        "        print(f\"Bad request. Details: {response_json}\")\n",
        "    elif promptmule_response.status_code == 500:\n",
        "        print(f\"Runtime Service Exception. Details: {response_json}\")\n",
        "    else:\n",
        "        print(f\"Unexpected status code {promptmule_response.status_code}. Details: {response_json}\")\n",
        "\n",
        "except requests.exceptions.HTTPError as errh:\n",
        "    print(f\"Http Error:{errh}\")\n",
        "\n",
        "except requests.exceptions.ConnectionError as errc:\n",
        "    print(f\"Error Connecting:{errc}\")\n",
        "\n",
        "except requests.exceptions.Timeout as errt:\n",
        "    print(f\"Timeout Error:{errt}\")\n",
        "\n",
        "except requests.exceptions.RequestException as err:\n",
        "    print(f\"Something went wrong with the request:{err}\")\n",
        "\n",
        "except Exception as e:\n",
        "    print(f\"An unexpected error occurred: {e}\")\n"
      ],
      "metadata": {
        "id": "hpiRoukTN0jS",
        "colab": {
          "base_uri": "https://localhost:8080/"
        },
        "outputId": "c4dcf7f1-3c37-4f8e-de9c-a93025f00a1c"
      },
      "execution_count": 56,
      "outputs": [
        {
          "output_type": "stream",
          "name": "stdout",
          "text": [
            "Unexpected status code 403. Details: {'message': \"Authorization header requires 'Credential' parameter. Authorization header requires 'Signature' parameter. Authorization header requires 'SignedHeaders' parameter. Authorization header requires existence of either a 'X-Amz-Date' or a 'Date' header. Authorization=eyJraWQiOiJ4bjRWQklyOFpkWkVjZXFtMVQ4WHYyZ2FaRHBySVJBZlhDUFpDOHVua1U4PSIsImFsZyI6IlJTMjU2In0.eyJzdWIiOiIyNzIwOTdlZi04ZjE2LTQ1MTUtODJjOC1lZGM3OWYyYzc1OTAiLCJjb2duaXRvOmdyb3VwcyI6WyJkZXZlbG9wZXIiXSwiZW1haWxfdmVyaWZpZWQiOnRydWUsImlzcyI6Imh0dHBzOlwvXC9jb2duaXRvLWlkcC51cy13ZXN0LTIuYW1hem9uYXdzLmNvbVwvdXMtd2VzdC0yX3BEU0lvRklaYyIsImNvZ25pdG86dXNlcm5hbWUiOiJtYXR0MiIsIm9yaWdpbl9qdGkiOiJjNjBkNmExMy02ZmIzLTRhOTQtYmM5ZC05YWM3MjE0ODRmMGEiLCJhdWQiOiIxZWVhb2tkY2szMG0wamx1OG44ZGlubWN0aCIsImV2ZW50X2lkIjoiMmY1YTcwNjUtMjk2MC00ZjQ5LTkyNWQtNGY4ODhhZGY2YWQ1IiwidG9rZW5fdXNlIjoiaWQiLCJhdXRoX3RpbWUiOjE2OTA3NjMyNDYsImV4cCI6MTY5MDc2Njg0NiwiaWF0IjoxNjkwNzYzMjQ2LCJqdGkiOiI2MzQxOTk2NC03YTNjLTQxOTItOGFiNy1mMzlkYWVlMmNlODgiLCJlbWFpbCI6ImluZm9AcHJvbXB0bXVsZS5jb20ifQ.XVAATG24jykcR0EUV63xZsNv2dzbLZFV4bm7ey_pa_4YcIpvfholhSBuu58S_mbZchoVAUiyKq9Ens_iC4WuSiZO3BK_F6sxZ9COWUMqdEZfhkLlRV6Gb_V5OTouYip_0Z3JITzQjAvncfuqhQG9yxFtPsdTdCwQEtKm3oyoMPRS0Psq1u_XhlnLtefjLGuBcE0jDcq5In-_NghqrzaulmMTLPkhg-z7sSG_oD1mxgpkquR_rvvxP51RzMMu4nlji-kL77W2SNatUK-pd9UtEaAl_iPa3xqJcsQg2qy8J0eeWFd-Q6-TL63FzbZ9MxVAPqISCi4p0lvpaSpjDzODfA\"}\n"
          ]
        }
      ]
    },
    {
      "cell_type": "markdown",
      "source": [
        "## Congratulations! You have are one of us now!\n",
        "That's the end of this demo. Let us know what you think."
      ],
      "metadata": {
        "id": "Jxum3sSiAlYM"
      }
    },
    {
      "cell_type": "markdown",
      "source": [
        "## Handling Errors in Colab or PromptMule API\n",
        "\n",
        "In the course of running the demo, should you encounter any errors or issues, the Colab environment provides you with features to debug and resolve them.\n",
        "\n",
        "1. **Runtime Reset**: If your notebook's runtime seems stuck or producing unexpected errors, you can reset it by selecting 'Runtime > Restart runtime...' from the menu.\n",
        "\n",
        "2. **Check Error Logs**: Colab provides detailed error logs for each cell. If a cell execution fails, you will see an error message below the cell which can provide clues on what went wrong.\n",
        "\n",
        "3. **PromptMule Support can reset your username**: And your email/passwrod/Token/Key if needed. Reach out to us and join our private preview slack at support@promptmule.com"
      ],
      "metadata": {
        "id": "tkEmlyrZLwHa"
      }
    }
  ]
}