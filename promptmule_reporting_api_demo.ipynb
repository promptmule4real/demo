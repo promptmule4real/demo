{
  "nbformat": 4,
  "nbformat_minor": 0,
  "metadata": {
    "colab": {
      "provenance": [],
      "authorship_tag": "ABX9TyO4ydZ0ofZDutQtijS0Zuor",
      "include_colab_link": true
    },
    "kernelspec": {
      "name": "python3",
      "display_name": "Python 3"
    },
    "language_info": {
      "name": "python"
    }
  },
  "cells": [
    {
      "cell_type": "markdown",
      "metadata": {
        "id": "view-in-github",
        "colab_type": "text"
      },
      "source": [
        "<a href=\"https://colab.research.google.com/github/promptmule4real/demo/blob/main/promptmule_reporting_api_demo.ipynb\" target=\"_parent\"><img src=\"https://colab.research.google.com/assets/colab-badge.svg\" alt=\"Open In Colab\"/></a>"
      ]
    },
    {
      "cell_type": "markdown",
      "source": [
        "# PromptMule Reporting API Demo v0.2\n",
        "\n",
        "Welcome to our interactive demonstration guide. Using the PromptMule cache enables you to automatically cache prompts and responses to OpenAI, without having to manage those yourself. These will be kept in the AWS Cloud until you wish to download them via a the Report API. First, you will need to generate some traffic with a few prompts, then some reports.\n",
        "\n",
        "This tutorial will guide you through the process of using the Reporting API, enabling you to harness the full potential of the PromptMule reporting service. Tailored specifically for a Google Colaboratory runtime environment, this demo provides an engaging exploration into sending reports through OpenAI and testing reporting functions. If you do not have an API-KEY or Token, see the Github guide to generate those here:[https://github.com/promptmule4real/demo/blob/main/promptmule_api_demo.ipynb]\n",
        "\n",
        "If you are reading this while on Github(https://github.com/): Start by clicking the \"Open in Colab\" icon located at the top left corner of the Github Preview page. This action will open the Google Colab notebook in a new tab, giving you the ability to run, modify, and interact with the demo code within.\n",
        "\n",
        "Once you've launched the notebook in Google Colab, follow the subsequent step-by-step instructions below to effectively use the PromptMule Reporting API.\n",
        "\n",
        "Stay tuned for a more comprehensive demo of other PromptMule functionalities, set to debut at the end of our next sprint!\n",
        "\n",
        "We invite you to dive into this interactive exploration, and welcome your participation and feedback. Please visit us at www.promptmule.com.\n",
        "\n",
        "If you are reading this while in Google Colab(https://colab.research.google.com/): To start, simply click on the \"Run Cell\" button located to the left of the code block. It resembles the play button you might find on a media player. Once activated, feel free to explore and experiment with the code."
      ],
      "metadata": {
        "id": "PJvAGfifZh92"
      }
    },
    {
      "cell_type": "code",
      "execution_count": null,
      "metadata": {
        "id": "GB8C5yR6Zcd3"
      },
      "outputs": [],
      "source": [
        "import os\n",
        "import requests\n",
        "import json\n",
        "import textwrap"
      ]
    },
    {
      "cell_type": "code",
      "source": [
        "# @title Input your PromptMule Sign-in Attributes { run: \"auto\", display-mode: \"both\" }\n",
        "#@markdown Below replace the capital LETTERS with your information, pick a username, complex password, real email, and an application name that you will use as a reference in the future.\n",
        "\n",
        "your_username = \"YOUR_USERNAME\"  #@param {type: \"string\"}  # this is your username, it will need to be unique, else the API will tell you it's not and try again (str)\n",
        "api_key = \"YOUR_PROMPTMULE_API_KEY\"    #@param {type: \"string\"} # complex passwords are required (str)\n",
        "your_appname = \"YOUR_APPNAME\"    #@param {type: \"string\"}   # this is the application that you are using the promptmule API to build, this app name is unique (str)\n",
        "api_token = \"YOUR_PROMPTMULE_TOKEN\"    #@param {type: \"string\"}   # this is the application that you are using the promptmule API to build, this app name is unique (str)\n",
        "#@markdown ---"
      ],
      "metadata": {
        "id": "akXjrPniZ4bw"
      },
      "execution_count": null,
      "outputs": []
    },
    {
      "cell_type": "code",
      "source": [
        "# @title Input OpenAI API KEY { run: \"auto\", display-mode: \"form\" }\n",
        "#@markdown Input your OpenAI API key here. To obtain an OpenAI API key (https://platform.openai.com/account/api-keys), OR sign up on the OpenAI website, provide necessary information, and upon approval, you'll be issued an API key to authenticate your requests to the API.\n",
        "\n",
        "OPENAI_API_KEY = 'YOUR_OPENAI_API_KEY' #@param {type: \"string\"} # this is your OpenAI API Key, it may impact your model choice\n",
        "#@markdown ---\n"
      ],
      "metadata": {
        "id": "XnO543JMePAw"
      },
      "execution_count": null,
      "outputs": []
    },
    {
      "cell_type": "markdown",
      "source": [
        "# PromptMule's /prompt endpoint API\n",
        "\n",
        "Using the PromptMule cache enables you to automatically cache prompts and responses to OpenAI, without having to manage those yourself. These will be kept in the AWS Cloud until you wish to download them via a the Report API. First, you will need to generate some traffic with a few prompts.\n",
        "\n",
        "You can utilize the /prompt endpoint using your PromptMule Token and API key, along with your OPENAI_API_KEY. These can be used to interact, via the PromptMule cache, with GPT-4 and/or GPT-3.5 models via the chat completion endpoint of OpenAI, available at: https://api.openai.com/v1/chat/completions\n",
        "\n",
        "For information on how to structure the OpenAI Request Body, refer to the official documentation here: https://platform.openai.com/docs/api-reference/chat/create\n",
        "\n",
        "We have incorporated some unique parameters specific to `promptmule`:\n",
        "\n",
        "- `api` (String): A required field, for this demonstration use \"openai\" which is the only supported API currently.\n",
        "\n",
        "- `semantic` (Float): This required parameter specifies the \"percentage match\" of the sent prompt with existing prompts in the cache. If a match is found with a percentage equal to or higher than this value, a maximum number of matches (as defined by `sem_num`) will be returned in a JSON dictionary.\n",
        "\n",
        "- `sem_num` (Integer): A required parameter which should be a number between 1 and 10. It represents the maximum number of semantic matches to be found in the cache and returned in the API response as a JSON dictionary."
      ],
      "metadata": {
        "id": "kxANfUF_a21f"
      }
    },
    {
      "cell_type": "markdown",
      "source": [
        "We need to update the headers for the Prompt API call, per below with Authorization which is different than previous calls using your API Token, and x-api-key which is your PromptMule API-Key, and your OpenAI API-Key."
      ],
      "metadata": {
        "id": "00w4v1WP982n"
      }
    },
    {
      "cell_type": "code",
      "source": [
        "ENDPOINT = 'https://820czjhki0.execute-api.us-west-2.amazonaws.com/dev/'\n",
        "PROMPT = 'prompt'\n",
        "\n",
        "headers = {           # this is the /prompt endpoint header\n",
        "    'Authorization': api_token,\n",
        "    'x-api-key': api_key,\n",
        "    'openai-key': OPENAI_API_KEY,\n",
        "    'Content-Type': 'application/json'\n",
        "    }\n",
        "\n",
        "api_call_body = {     # this is a /prompt call body example\n",
        "    \"model\": \"gpt-4-0613\",  # using GPT-4, you must have access to this model, or the call will fail\n",
        "    \"messages\": [\n",
        "        {\n",
        "            \"role\": \"user\",\n",
        "            \"content\": \"Create a Python function for the chances of seeing a unicorn in Central Park. Assume the probability is the square root of -1.\"\n",
        "        }\n",
        "    ],\n",
        "    \"max_tokens\": \"50\",\n",
        "    \"temperature\": \"0.99\",\n",
        "    \"top_p\": \"1\",\n",
        "    \"n\": \"1\",\n",
        "    \"logprobs\": \"null\",\n",
        "    \"stop\": \"null\",\n",
        "    \"suffix\": \"null\",\n",
        "    \"echo\": \"true\",\n",
        "    \"presence_penalty\": \"0\",\n",
        "    \"frequency_penalty\": \"0\",\n",
        "    \"best_of\": \"1\",\n",
        "    \"logit_bias\": \"null\",\n",
        "    \"user\": your_new_username,\n",
        "    \"api\": \"openai\",    # this is used to denote openai as the destination\n",
        "    \"semantic\": \"0.99\", # this denotes the semantic match percentage in the cache\n",
        "    \"sem_num\": \"2\"      # this denotes the number of matches to return if found\n",
        "}"
      ],
      "metadata": {
        "id": "GFSOWfxM9rZT"
      },
      "execution_count": null,
      "outputs": []
    },
    {
      "cell_type": "markdown",
      "source": [
        "Note that we are pointing the endpoint at the Prompt endpoint this time, and then sending the API call."
      ],
      "metadata": {
        "id": "XYq6BnHs-C9g"
      }
    },
    {
      "cell_type": "code",
      "source": [
        "promptmule = ENDPOINT + PROMPT\n",
        "promptmule_response = requests.request(\"POST\", promptmule, headers=headers, json=api_call_body)\n",
        "# Handle response\n",
        "if promptmule_response.status_code == 200:\n",
        "    print(\"Response from OpenAI successful:\\n\", json.dumps(json.loads(promptmule_response.text), indent=4))\n",
        "else:\n",
        "    print(f\"Response from OpenAI failed with status code {promptmule_response.status_code}:\\n\", json.dumps(json.loads(promptmule_response.text), indent=4))"
      ],
      "metadata": {
        "id": "BKcoMTdu-I_K"
      },
      "execution_count": null,
      "outputs": []
    },
    {
      "cell_type": "code",
      "source": [
        "# Run the loop 10 times\n",
        "for _ in range(10):\n",
        "    try:\n",
        "        promptmule = ENDPOINT + PROMPT\n",
        "        promptmule_response = requests.request(\"POST\", promptmule, headers=headers, json=api_call_body)\n",
        "        response_json = json.loads(promptmule_response.text)\n",
        "\n",
        "        # Handle response\n",
        "        if promptmule_response.status_code == 200:\n",
        "            print(\"Response from OpenAI successful:\\n\", json.dumps(response_json, indent=4))\n",
        "        elif promptmule_response.status_code == 400:\n",
        "            print(f\"Bad request. Details: {response_json}\")\n",
        "        elif promptmule_response.status_code == 500:\n",
        "            print(f\"Runtime Service Exception. Details: {response_json}\")\n",
        "        else:\n",
        "            print(f\"Unexpected status code {promptmule_response.status_code}. Details: {response_json}\")\n",
        "\n",
        "    except requests.exceptions.HTTPError as errh:\n",
        "        print(f\"Http Error:{errh}\")\n",
        "\n",
        "    except requests.exceptions.ConnectionError as errc:\n",
        "        print(f\"Error Connecting:{errc}\")\n",
        "\n",
        "    except requests.exceptions.Timeout as errt:\n",
        "        print(f\"Timeout Error:{errt}\")\n",
        "\n",
        "    except requests.exceptions.RequestException as err:\n",
        "        print(f\"Something went wrong with the request:{err}\")\n",
        "\n",
        "    except Exception as e:\n",
        "        print(f\"An unexpected error occurred: {e}\")"
      ],
      "metadata": {
        "id": "9LuPvvj_DWC5"
      },
      "execution_count": null,
      "outputs": []
    },
    {
      "cell_type": "code",
      "source": [
        "# This is the Application Use Report API based on a user's API KEY\n",
        "USAGE = \"/usage\" # this is the Applicaton Use Report endpoint\n",
        "\n",
        "headers = {           # this is the /usage endpoint header\n",
        "    'Authorization': api_token,\n",
        "    'x-api-key': api_key,\n",
        "    'Content-Type': 'application/json'\n",
        "    }\n"
      ],
      "metadata": {
        "id": "1Ri02-PIDaBk"
      },
      "execution_count": null,
      "outputs": []
    },
    {
      "cell_type": "code",
      "source": [
        "#Run the Application Usage Report for this API KEY\n",
        "try:\n",
        "    promptmule = ENDPOINT + USAGE\n",
        "    promptmule_response = requests.get(promptmule, headers=headers)\n",
        "    response_json = json.loads(promptmule_response.text)\n",
        "\n",
        "    # Handle response\n",
        "    if promptmule_response.status_code == 200:\n",
        "        print(\"Response from API successful:\\n\", json.dumps(response_json, indent=4))\n",
        "    elif promptmule_response.status_code == 400:\n",
        "        print(f\"Bad request. Details: {response_json}\")\n",
        "    elif promptmule_response.status_code == 500:\n",
        "        print(f\"Runtime Service Exception. Details: {response_json}\")\n",
        "    else:\n",
        "        print(f\"Unexpected status code {promptmule_response.status_code}. Details: {response_json}\")\n",
        "\n",
        "except requests.exceptions.HTTPError as errh:\n",
        "    print(f\"Http Error:{errh}\")\n",
        "\n",
        "except requests.exceptions.ConnectionError as errc:\n",
        "    print(f\"Error Connecting:{errc}\")\n",
        "\n",
        "except requests.exceptions.Timeout as errt:\n",
        "    print(f\"Timeout Error:{errt}\")\n",
        "\n",
        "except requests.exceptions.RequestException as err:\n",
        "    print(f\"Something went wrong with the request:{err}\")\n",
        "\n",
        "except Exception as e:\n",
        "    print(f\"An unexpected error occurred: {e}\")"
      ],
      "metadata": {
        "id": "FqJwHBCOGQAX"
      },
      "execution_count": null,
      "outputs": []
    },
    {
      "cell_type": "code",
      "source": [
        "# This is the header setup for the Application Use Report API based on a user's API KEY\n",
        "DATE_RANGE_REPORT = \"/usage/daily-stats\" # this is the Applicaton Use Report endpoint\n",
        "\n",
        "headers = {           # this is the /usage endpoint header\n",
        "    'Authorization': api_token,\n",
        "    'x-api-key': api_key,\n",
        "    'Content-Type': 'application/json'\n",
        "    }"
      ],
      "metadata": {
        "id": "i5RQsclRIRgs"
      },
      "execution_count": null,
      "outputs": []
    },
    {
      "cell_type": "code",
      "source": [
        "# Run the Date Range Report for Application per API KEY\n",
        "try:\n",
        "    promptmule = ENDPOINT + DATE_RANGE_REPORT\n",
        "    promptmule_response = requests.get(promptmule, headers=headers)\n",
        "    response_json = json.loads(promptmule_response.text)\n",
        "\n",
        "    # Handle response\n",
        "    if promptmule_response.status_code == 200:\n",
        "        print(\"Response from API successful:\\n\", json.dumps(response_json, indent=4))\n",
        "    elif promptmule_response.status_code == 400:\n",
        "        print(f\"Bad request. Details: {response_json}\")\n",
        "    elif promptmule_response.status_code == 500:\n",
        "        print(f\"Runtime Service Exception. Details: {response_json}\")\n",
        "    else:\n",
        "        print(f\"Unexpected status code {promptmule_response.status_code}. Details: {response_json}\")\n",
        "\n",
        "except requests.exceptions.HTTPError as errh:\n",
        "    print(f\"Http Error:{errh}\")\n",
        "\n",
        "except requests.exceptions.ConnectionError as errc:\n",
        "    print(f\"Error Connecting:{errc}\")\n",
        "\n",
        "except requests.exceptions.Timeout as errt:\n",
        "    print(f\"Timeout Error:{errt}\")\n",
        "\n",
        "except requests.exceptions.RequestException as err:\n",
        "    print(f\"Something went wrong with the request:{err}\")\n",
        "\n",
        "except Exception as e:\n",
        "    print(f\"An unexpected error occurred: {e}\")"
      ],
      "metadata": {
        "colab": {
          "base_uri": "https://localhost:8080/",
          "height": 419
        },
        "id": "BDUKILGpHr8Y",
        "outputId": "01358e5e-e986-4a92-8478-51730569db59"
      },
      "execution_count": null,
      "outputs": [
        {
          "output_type": "error",
          "ename": "NameError",
          "evalue": "ignored",
          "traceback": [
            "\u001b[0;31m---------------------------------------------------------------------------\u001b[0m",
            "\u001b[0;31mNameError\u001b[0m                                 Traceback (most recent call last)",
            "\u001b[0;32m<ipython-input-1-c90bec959393>\u001b[0m in \u001b[0;36m<cell line: 1>\u001b[0;34m()\u001b[0m\n\u001b[1;32m      1\u001b[0m \u001b[0;32mtry\u001b[0m\u001b[0;34m:\u001b[0m\u001b[0;34m\u001b[0m\u001b[0;34m\u001b[0m\u001b[0m\n\u001b[0;32m----> 2\u001b[0;31m     \u001b[0mpromptmule\u001b[0m \u001b[0;34m=\u001b[0m \u001b[0mENDPOINT\u001b[0m \u001b[0;34m+\u001b[0m \u001b[0;34m\"/usage/daily-stats\"\u001b[0m\u001b[0;34m\u001b[0m\u001b[0;34m\u001b[0m\u001b[0m\n\u001b[0m\u001b[1;32m      3\u001b[0m     \u001b[0mpromptmule_response\u001b[0m \u001b[0;34m=\u001b[0m \u001b[0mrequests\u001b[0m\u001b[0;34m.\u001b[0m\u001b[0mget\u001b[0m\u001b[0;34m(\u001b[0m\u001b[0mpromptmule\u001b[0m\u001b[0;34m,\u001b[0m \u001b[0mheaders\u001b[0m\u001b[0;34m=\u001b[0m\u001b[0mheaders\u001b[0m\u001b[0;34m)\u001b[0m\u001b[0;34m\u001b[0m\u001b[0;34m\u001b[0m\u001b[0m\n",
            "\u001b[0;31mNameError\u001b[0m: name 'ENDPOINT' is not defined",
            "\nDuring handling of the above exception, another exception occurred:\n",
            "\u001b[0;31mNameError\u001b[0m                                 Traceback (most recent call last)",
            "\u001b[0;32m<ipython-input-1-c90bec959393>\u001b[0m in \u001b[0;36m<cell line: 1>\u001b[0;34m()\u001b[0m\n\u001b[1;32m     14\u001b[0m         \u001b[0mprint\u001b[0m\u001b[0;34m(\u001b[0m\u001b[0;34mf\"Unexpected status code {promptmule_response.status_code}. Details: {response_json}\"\u001b[0m\u001b[0;34m)\u001b[0m\u001b[0;34m\u001b[0m\u001b[0;34m\u001b[0m\u001b[0m\n\u001b[1;32m     15\u001b[0m \u001b[0;34m\u001b[0m\u001b[0m\n\u001b[0;32m---> 16\u001b[0;31m \u001b[0;32mexcept\u001b[0m \u001b[0mrequests\u001b[0m\u001b[0;34m.\u001b[0m\u001b[0mexceptions\u001b[0m\u001b[0;34m.\u001b[0m\u001b[0mHTTPError\u001b[0m \u001b[0;32mas\u001b[0m \u001b[0merrh\u001b[0m\u001b[0;34m:\u001b[0m\u001b[0;34m\u001b[0m\u001b[0;34m\u001b[0m\u001b[0m\n\u001b[0m\u001b[1;32m     17\u001b[0m     \u001b[0mprint\u001b[0m\u001b[0;34m(\u001b[0m\u001b[0;34mf\"Http Error:{errh}\"\u001b[0m\u001b[0;34m)\u001b[0m\u001b[0;34m\u001b[0m\u001b[0;34m\u001b[0m\u001b[0m\n\u001b[1;32m     18\u001b[0m \u001b[0;34m\u001b[0m\u001b[0m\n",
            "\u001b[0;31mNameError\u001b[0m: name 'requests' is not defined"
          ]
        }
      ]
    },
    {
      "cell_type": "markdown",
      "source": [
        "# Retreive all API Keys for a username"
      ],
      "metadata": {
        "id": "z-uRv0S8LrJj"
      }
    },
    {
      "cell_type": "code",
      "source": [
        "# This is the header setup for the Get All User API Keys\n",
        "GET_ALL_API_KEYS_PER_USER = \"/api-keys\" # this is the Get ALL User API Keys endpoint\n",
        "\n",
        "headers = {           # this is the GET /api-keys endpoint header\n",
        "    'Authorization': api_token,\n",
        "    'Content-Type': 'application/json'\n",
        "    }"
      ],
      "metadata": {
        "id": "un0JjnHbMST8"
      },
      "execution_count": null,
      "outputs": []
    },
    {
      "cell_type": "code",
      "source": [
        "# Run the Date Range Report for Application per API KEY\n",
        "try:\n",
        "    promptmule = ENDPOINT + GET_ALL_API_KEYS_PER_USER\n",
        "    promptmule_response = requests.get(promptmule, headers=headers)\n",
        "    response_json = json.loads(promptmule_response.text)\n",
        "\n",
        "    # Handle response\n",
        "    if promptmule_response.status_code == 200:\n",
        "        print(\"Get All Keys for User successful:\\n\", json.dumps(response_json, indent=4))\n",
        "    elif promptmule_response.status_code == 400:\n",
        "        print(f\"Bad request. Details: {response_json}\")\n",
        "    elif promptmule_response.status_code == 500:\n",
        "        print(f\"Runtime Service Exception. Details: {response_json}\")\n",
        "    else:\n",
        "        print(f\"Unexpected status code {promptmule_response.status_code}. Details: {response_json}\")\n",
        "\n",
        "except requests.exceptions.HTTPError as errh:\n",
        "    print(f\"Http Error:{errh}\")\n",
        "\n",
        "except requests.exceptions.ConnectionError as errc:\n",
        "    print(f\"Error Connecting:{errc}\")\n",
        "\n",
        "except requests.exceptions.Timeout as errt:\n",
        "    print(f\"Timeout Error:{errt}\")\n",
        "\n",
        "except requests.exceptions.RequestException as err:\n",
        "    print(f\"Something went wrong with the request:{err}\")\n",
        "\n",
        "except Exception as e:\n",
        "    print(f\"An unexpected error occurred: {e}\")"
      ],
      "metadata": {
        "id": "ZQOuYzPeLkEI"
      },
      "execution_count": null,
      "outputs": []
    },
    {
      "cell_type": "code",
      "source": [
        "# This is the header setup for the Get All User Prompts\n",
        "PROMPT = \"/prompt\" # this is the Get ALL User API Keys endpoint\n",
        "\n",
        "headers = {           # this is the GET /api-keys endpoint header\n",
        "    'Authorization': api_token,\n",
        "    'x-api-key': api_key,\n",
        "    'Content-Type': 'application/json'\n",
        "    }\n",
        "# NOTE the use of parameters here to convey the start date of the prompts you want to retrieve and the end date. Also, you can choose to ask for prompts that have been cached or not, this is done with the \"is_cached\" parameter, where 'TRUE' means that the values will be returned form the live cache, and 'FALSE' returns any prompt that has occured between the two dates. Finally, 'limit' is the maximum number (int) between 1 and 100 of the prompts to return in the reply json.\n",
        "params = {\n",
        "    'start-date': '2023-07-01',\n",
        "    'end-date': '2023-07-27',\n",
        "    'is-cached': 'False',\n",
        "    'limit': '10'\n",
        "}"
      ],
      "metadata": {
        "id": "FY_Ru0ljNdDJ"
      },
      "execution_count": null,
      "outputs": []
    },
    {
      "cell_type": "code",
      "source": [
        "# Run the Date Range Report for Application per API KEY\n",
        "try:\n",
        "    promptmule = ENDPOINT + PROMPT\n",
        "    promptmule_response = requests.get(ENDPOINT, headers=headers, params=params)\n",
        "    response_json = json.loads(promptmule_response.text)\n",
        "\n",
        "    # Handle response\n",
        "    if promptmule_response.status_code == 200:\n",
        "        print(\"The prompts were found successfully:\\n\", json.dumps(response_json, indent=4))\n",
        "    elif promptmule_response.status_code == 400:\n",
        "        print(f\"Bad request. Details: {response_json}\")\n",
        "    elif promptmule_response.status_code == 500:\n",
        "        print(f\"Runtime Service Exception. Details: {response_json}\")\n",
        "    else:\n",
        "        print(f\"Unexpected status code {promptmule_response.status_code}. Details: {response_json}\")\n",
        "\n",
        "except requests.exceptions.HTTPError as errh:\n",
        "    print(f\"Http Error:{errh}\")\n",
        "\n",
        "except requests.exceptions.ConnectionError as errc:\n",
        "    print(f\"Error Connecting:{errc}\")\n",
        "\n",
        "except requests.exceptions.Timeout as errt:\n",
        "    print(f\"Timeout Error:{errt}\")\n",
        "\n",
        "except requests.exceptions.RequestException as err:\n",
        "    print(f\"Something went wrong with the request:{err}\")\n",
        "\n",
        "except Exception as e:\n",
        "    print(f\"An unexpected error occurred: {e}\")\n"
      ],
      "metadata": {
        "id": "hpiRoukTN0jS"
      },
      "execution_count": null,
      "outputs": []
    },
    {
      "cell_type": "markdown",
      "source": [
        "## Congratulations! You have are one of us now!\n",
        "That's the end of this demo. Let us know what you think."
      ],
      "metadata": {
        "id": "Jxum3sSiAlYM"
      }
    },
    {
      "cell_type": "markdown",
      "source": [
        "## Handling Errors in Colab or PromptMule API\n",
        "\n",
        "In the course of running the demo, should you encounter any errors or issues, the Colab environment provides you with features to debug and resolve them.\n",
        "\n",
        "1. **Runtime Reset**: If your notebook's runtime seems stuck or producing unexpected errors, you can reset it by selecting 'Runtime > Restart runtime...' from the menu.\n",
        "\n",
        "2. **Check Error Logs**: Colab provides detailed error logs for each cell. If a cell execution fails, you will see an error message below the cell which can provide clues on what went wrong.\n",
        "\n",
        "3. **PromptMule Support can reset your username**: And your email/passwrod/Token/Key if needed. Reach out to us and join our private preview slack at support@promptmule.com"
      ],
      "metadata": {
        "id": "tkEmlyrZLwHa"
      }
    }
  ]
}